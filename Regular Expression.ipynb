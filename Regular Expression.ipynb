{
 "metadata": {
  "language_info": {
   "codemirror_mode": {
    "name": "ipython",
    "version": 3
   },
   "file_extension": ".py",
   "mimetype": "text/x-python",
   "name": "python",
   "nbconvert_exporter": "python",
   "pygments_lexer": "ipython3",
   "version": "3.7.7-final"
  },
  "orig_nbformat": 2,
  "kernelspec": {
   "name": "python3",
   "display_name": "Python 3"
  }
 },
 "nbformat": 4,
 "nbformat_minor": 2,
 "cells": [
  {
   "source": [
    "# Regular Expression (RegEx)"
   ],
   "cell_type": "markdown",
   "metadata": {}
  },
  {
   "source": [
    "## Important RegEx Function to note:\n",
    "* match: finds the first occurence of pattern in the string\n",
    "* search: locates the pattern in the string\n",
    "* findall: find all occurences of pattern in the string\n",
    "* sub: search and replace\n",
    "* split: split the text by the given regular expression pattern"
   ],
   "cell_type": "markdown",
   "metadata": {}
  },
  {
   "cell_type": "code",
   "execution_count": 4,
   "metadata": {},
   "outputs": [],
   "source": [
    "# import the RegEx library\n",
    "import re"
   ]
  },
  {
   "cell_type": "code",
   "execution_count": 5,
   "metadata": {},
   "outputs": [
    {
     "output_type": "stream",
     "name": "stdout",
     "text": [
      "None\n"
     ]
    }
   ],
   "source": [
    "# Using the match() function\n",
    "string = \"tiger is the national animal of india\"\n",
    "pattern = \"tiger\"\n",
    "pattern2 = \"lion\"\n",
    "\n",
    "mo = re.match(pattern2, string)\n",
    "print(mo)"
   ]
  },
  {
   "source": [
    "The above match function above checked in the first word in the string matches the pattern"
   ],
   "cell_type": "markdown",
   "metadata": {}
  },
  {
   "cell_type": "code",
   "execution_count": 8,
   "metadata": {},
   "outputs": [
    {
     "output_type": "stream",
     "name": "stdout",
     "text": [
      "national\n"
     ]
    }
   ],
   "source": [
    "# Using the search() function\n",
    "string = \"tiger is the national animal of india\"\n",
    "pattern = \"national\"\n",
    "\n",
    "mo2 = re.search(pattern, string)\n",
    "print(mo2.group(0))"
   ]
  },
  {
   "cell_type": "code",
   "execution_count": 10,
   "metadata": {},
   "outputs": [
    {
     "output_type": "stream",
     "name": "stdout",
     "text": [
      "['national']\n"
     ]
    }
   ],
   "source": [
    "# Using the findall() function\n",
    "string = \"tiger is the national animal of india and national sports in hockey\"\n",
    "pattern = \"national\"\n",
    "\n",
    "\n",
    "mo3 = re.findall(pattern, string)\n",
    "print(mo3)"
   ]
  },
  {
   "cell_type": "code",
   "execution_count": 14,
   "metadata": {},
   "outputs": [
    {
     "output_type": "stream",
     "name": "stdout",
     "text": [
      "13\n"
     ]
    }
   ],
   "source": [
    "# Using the finfiter() function\n",
    "# This creates an iterator the can be called out in a loop\n",
    "#It returns the indexes of the words searched\n",
    "#the .start() method returns just the values\n",
    "mo4 = re.finditer(pattern, string)\n",
    "for m in mo4:\n",
    "    print(m.start())"
   ]
  },
  {
   "cell_type": "code",
   "execution_count": 16,
   "metadata": {},
   "outputs": [
    {
     "output_type": "stream",
     "name": "stdout",
     "text": [
      "['12-09-1992', '15-12-1999']\n"
     ]
    }
   ],
   "source": [
    "# Extracting date from a string\n",
    "string = \"Ron was born on 12-09-1992 and he was admitted to school on 15-12-1999\"\n",
    "pattern = \"\\d{2}-\\d{2}-\\d{4}\"\n",
    "\n",
    "mo5 = re.findall(pattern, string)\n",
    "print(mo5)"
   ]
  },
  {
   "cell_type": "code",
   "execution_count": 17,
   "metadata": {},
   "outputs": [
    {
     "output_type": "stream",
     "name": "stdout",
     "text": [
      "Ron was born on Monday and he was admitted to school on Monday\n"
     ]
    }
   ],
   "source": [
    "# Replacing a pattern in a string\n",
    "\n",
    "print(re.sub(pattern, \"Monday\", string))"
   ]
  },
  {
   "cell_type": "code",
   "execution_count": null,
   "metadata": {},
   "outputs": [],
   "source": []
  }
 ]
}